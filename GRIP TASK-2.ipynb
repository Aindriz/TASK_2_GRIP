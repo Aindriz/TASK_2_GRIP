{
 "cells": [
  {
   "cell_type": "code",
   "execution_count": null,
   "id": "1a27a0a4",
   "metadata": {},
   "outputs": [],
   "source": [
    "THE SPARKS FOUNDATION- Data Science And Business Analytics Internship\n",
    "TASK 2- Prediction Using Unsupervised Machine Learning\n",
    "AUTHOR- Aindrila Acharyya Chaudhuri\n",
    "\n",
    "From the given dataset, to predict the optimum number of clusters and represent it visually.\n",
    "Dataset- https://bit.ly/3kXTdox"
   ]
  },
  {
   "cell_type": "code",
   "execution_count": 6,
   "id": "dde5024b",
   "metadata": {},
   "outputs": [],
   "source": [
    "import numpy as np                         #to work with arrays\n",
    "import matplotlib.pyplot as plt            #for data visualisation\n",
    "import pandas as pd                        #for data manipulation and analysis\n",
    "from sklearn.cluster import KMeans         #for K-means clustering of data"
   ]
  },
  {
   "cell_type": "code",
   "execution_count": 18,
   "id": "44b3c8d4",
   "metadata": {},
   "outputs": [],
   "source": [
    "import warnings as wg                      #to ingore warnings, if any, in the program\n",
    "wg.filterwarnings(\"ignore\")"
   ]
  },
  {
   "cell_type": "code",
   "execution_count": null,
   "id": "4c49feb4",
   "metadata": {},
   "outputs": [],
   "source": [
    "We now proceed to read the dataset given to us and describe the data."
   ]
  },
  {
   "cell_type": "code",
   "execution_count": 11,
   "id": "e4817e7c",
   "metadata": {},
   "outputs": [],
   "source": [
    "data = pd.read_csv('Iris.csv')"
   ]
  },
  {
   "cell_type": "code",
   "execution_count": 12,
   "id": "0fcaded9",
   "metadata": {},
   "outputs": [
    {
     "data": {
      "text/html": [
       "<div>\n",
       "<style scoped>\n",
       "    .dataframe tbody tr th:only-of-type {\n",
       "        vertical-align: middle;\n",
       "    }\n",
       "\n",
       "    .dataframe tbody tr th {\n",
       "        vertical-align: top;\n",
       "    }\n",
       "\n",
       "    .dataframe thead th {\n",
       "        text-align: right;\n",
       "    }\n",
       "</style>\n",
       "<table border=\"1\" class=\"dataframe\">\n",
       "  <thead>\n",
       "    <tr style=\"text-align: right;\">\n",
       "      <th></th>\n",
       "      <th>Id</th>\n",
       "      <th>SepalLengthCm</th>\n",
       "      <th>SepalWidthCm</th>\n",
       "      <th>PetalLengthCm</th>\n",
       "      <th>PetalWidthCm</th>\n",
       "      <th>Species</th>\n",
       "    </tr>\n",
       "  </thead>\n",
       "  <tbody>\n",
       "    <tr>\n",
       "      <th>0</th>\n",
       "      <td>1</td>\n",
       "      <td>5.1</td>\n",
       "      <td>3.5</td>\n",
       "      <td>1.4</td>\n",
       "      <td>0.2</td>\n",
       "      <td>Iris-setosa</td>\n",
       "    </tr>\n",
       "    <tr>\n",
       "      <th>1</th>\n",
       "      <td>2</td>\n",
       "      <td>4.9</td>\n",
       "      <td>3.0</td>\n",
       "      <td>1.4</td>\n",
       "      <td>0.2</td>\n",
       "      <td>Iris-setosa</td>\n",
       "    </tr>\n",
       "    <tr>\n",
       "      <th>2</th>\n",
       "      <td>3</td>\n",
       "      <td>4.7</td>\n",
       "      <td>3.2</td>\n",
       "      <td>1.3</td>\n",
       "      <td>0.2</td>\n",
       "      <td>Iris-setosa</td>\n",
       "    </tr>\n",
       "    <tr>\n",
       "      <th>3</th>\n",
       "      <td>4</td>\n",
       "      <td>4.6</td>\n",
       "      <td>3.1</td>\n",
       "      <td>1.5</td>\n",
       "      <td>0.2</td>\n",
       "      <td>Iris-setosa</td>\n",
       "    </tr>\n",
       "    <tr>\n",
       "      <th>4</th>\n",
       "      <td>5</td>\n",
       "      <td>5.0</td>\n",
       "      <td>3.6</td>\n",
       "      <td>1.4</td>\n",
       "      <td>0.2</td>\n",
       "      <td>Iris-setosa</td>\n",
       "    </tr>\n",
       "    <tr>\n",
       "      <th>...</th>\n",
       "      <td>...</td>\n",
       "      <td>...</td>\n",
       "      <td>...</td>\n",
       "      <td>...</td>\n",
       "      <td>...</td>\n",
       "      <td>...</td>\n",
       "    </tr>\n",
       "    <tr>\n",
       "      <th>145</th>\n",
       "      <td>146</td>\n",
       "      <td>6.7</td>\n",
       "      <td>3.0</td>\n",
       "      <td>5.2</td>\n",
       "      <td>2.3</td>\n",
       "      <td>Iris-virginica</td>\n",
       "    </tr>\n",
       "    <tr>\n",
       "      <th>146</th>\n",
       "      <td>147</td>\n",
       "      <td>6.3</td>\n",
       "      <td>2.5</td>\n",
       "      <td>5.0</td>\n",
       "      <td>1.9</td>\n",
       "      <td>Iris-virginica</td>\n",
       "    </tr>\n",
       "    <tr>\n",
       "      <th>147</th>\n",
       "      <td>148</td>\n",
       "      <td>6.5</td>\n",
       "      <td>3.0</td>\n",
       "      <td>5.2</td>\n",
       "      <td>2.0</td>\n",
       "      <td>Iris-virginica</td>\n",
       "    </tr>\n",
       "    <tr>\n",
       "      <th>148</th>\n",
       "      <td>149</td>\n",
       "      <td>6.2</td>\n",
       "      <td>3.4</td>\n",
       "      <td>5.4</td>\n",
       "      <td>2.3</td>\n",
       "      <td>Iris-virginica</td>\n",
       "    </tr>\n",
       "    <tr>\n",
       "      <th>149</th>\n",
       "      <td>150</td>\n",
       "      <td>5.9</td>\n",
       "      <td>3.0</td>\n",
       "      <td>5.1</td>\n",
       "      <td>1.8</td>\n",
       "      <td>Iris-virginica</td>\n",
       "    </tr>\n",
       "  </tbody>\n",
       "</table>\n",
       "<p>150 rows × 6 columns</p>\n",
       "</div>"
      ],
      "text/plain": [
       "      Id  SepalLengthCm  SepalWidthCm  PetalLengthCm  PetalWidthCm  \\\n",
       "0      1            5.1           3.5            1.4           0.2   \n",
       "1      2            4.9           3.0            1.4           0.2   \n",
       "2      3            4.7           3.2            1.3           0.2   \n",
       "3      4            4.6           3.1            1.5           0.2   \n",
       "4      5            5.0           3.6            1.4           0.2   \n",
       "..   ...            ...           ...            ...           ...   \n",
       "145  146            6.7           3.0            5.2           2.3   \n",
       "146  147            6.3           2.5            5.0           1.9   \n",
       "147  148            6.5           3.0            5.2           2.0   \n",
       "148  149            6.2           3.4            5.4           2.3   \n",
       "149  150            5.9           3.0            5.1           1.8   \n",
       "\n",
       "            Species  \n",
       "0       Iris-setosa  \n",
       "1       Iris-setosa  \n",
       "2       Iris-setosa  \n",
       "3       Iris-setosa  \n",
       "4       Iris-setosa  \n",
       "..              ...  \n",
       "145  Iris-virginica  \n",
       "146  Iris-virginica  \n",
       "147  Iris-virginica  \n",
       "148  Iris-virginica  \n",
       "149  Iris-virginica  \n",
       "\n",
       "[150 rows x 6 columns]"
      ]
     },
     "execution_count": 12,
     "metadata": {},
     "output_type": "execute_result"
    }
   ],
   "source": [
    "data"
   ]
  },
  {
   "cell_type": "code",
   "execution_count": null,
   "id": "fa402032",
   "metadata": {},
   "outputs": [],
   "source": [
    "From the above dataset, we see that the given dataset has 150 rows and 6 columns."
   ]
  },
  {
   "cell_type": "code",
   "execution_count": null,
   "id": "d2cbe5be",
   "metadata": {},
   "outputs": [],
   "source": [
    "We now proceed on to gain a visual representation of the data."
   ]
  },
  {
   "cell_type": "code",
   "execution_count": 14,
   "id": "163faf4a",
   "metadata": {},
   "outputs": [
    {
     "data": {
      "text/plain": [
       "Index(['Id', 'SepalLengthCm', 'SepalWidthCm', 'PetalLengthCm', 'PetalWidthCm',\n",
       "       'Species'],\n",
       "      dtype='object')"
      ]
     },
     "execution_count": 14,
     "metadata": {},
     "output_type": "execute_result"
    }
   ],
   "source": [
    "data.columns                      #to get the names of the columns from the above dataset"
   ]
  },
  {
   "cell_type": "code",
   "execution_count": 15,
   "id": "38e1de2b",
   "metadata": {},
   "outputs": [
    {
     "data": {
      "text/plain": [
       "<bound method NDFrame.describe of       Id  SepalLengthCm  SepalWidthCm  PetalLengthCm  PetalWidthCm  \\\n",
       "0      1            5.1           3.5            1.4           0.2   \n",
       "1      2            4.9           3.0            1.4           0.2   \n",
       "2      3            4.7           3.2            1.3           0.2   \n",
       "3      4            4.6           3.1            1.5           0.2   \n",
       "4      5            5.0           3.6            1.4           0.2   \n",
       "..   ...            ...           ...            ...           ...   \n",
       "145  146            6.7           3.0            5.2           2.3   \n",
       "146  147            6.3           2.5            5.0           1.9   \n",
       "147  148            6.5           3.0            5.2           2.0   \n",
       "148  149            6.2           3.4            5.4           2.3   \n",
       "149  150            5.9           3.0            5.1           1.8   \n",
       "\n",
       "            Species  \n",
       "0       Iris-setosa  \n",
       "1       Iris-setosa  \n",
       "2       Iris-setosa  \n",
       "3       Iris-setosa  \n",
       "4       Iris-setosa  \n",
       "..              ...  \n",
       "145  Iris-virginica  \n",
       "146  Iris-virginica  \n",
       "147  Iris-virginica  \n",
       "148  Iris-virginica  \n",
       "149  Iris-virginica  \n",
       "\n",
       "[150 rows x 6 columns]>"
      ]
     },
     "execution_count": 15,
     "metadata": {},
     "output_type": "execute_result"
    }
   ],
   "source": [
    "data.describe                     #to compute the statistical constants"
   ]
  },
  {
   "cell_type": "code",
   "execution_count": null,
   "id": "76a96cc7",
   "metadata": {},
   "outputs": [],
   "source": [
    "We now proceed on to find Optimum Number of clusters in the given dataset.\n",
    "We will now drop the label (species) column from the dataset as it is unsupervised learning."
   ]
  },
  {
   "cell_type": "code",
   "execution_count": 16,
   "id": "2ee8d94f",
   "metadata": {},
   "outputs": [
    {
     "name": "stdout",
     "output_type": "stream",
     "text": [
      "   SepalLengthCm  SepalWidthCm  PetalLengthCm  PetalWidthCm\n",
      "0            5.1           3.5            1.4           0.2\n",
      "1            4.9           3.0            1.4           0.2\n",
      "2            4.7           3.2            1.3           0.2\n",
      "3            4.6           3.1            1.5           0.2\n",
      "4            5.0           3.6            1.4           0.2\n",
      "     SepalLengthCm  SepalWidthCm  PetalLengthCm  PetalWidthCm\n",
      "145            6.7           3.0            5.2           2.3\n",
      "146            6.3           2.5            5.0           1.9\n",
      "147            6.5           3.0            5.2           2.0\n",
      "148            6.2           3.4            5.4           2.3\n",
      "149            5.9           3.0            5.1           1.8\n"
     ]
    }
   ],
   "source": [
    "flower = pd.DataFrame(data)\n",
    "flower_dataframe = flower.drop(columns= ['Species', 'Id'] )   #Dropping two columns,Species and Id from the dataset\n",
    "print(flower_dataframe.head())\n",
    "print(flower_dataframe.tail())"
   ]
  },
  {
   "cell_type": "code",
   "execution_count": null,
   "id": "970a756b",
   "metadata": {},
   "outputs": [],
   "source": [
    "As we can see from the above output, Id and Species columns have been dropped out!"
   ]
  },
  {
   "cell_type": "code",
   "execution_count": null,
   "id": "58b0496a",
   "metadata": {},
   "outputs": [],
   "source": [
    "To find optimum number of clusters, we use the Elbow Method.\n",
    "The Elbow method runs K-means clustering on a dataset for a range of values and then for each value of k, computes\n",
    "an average score.\n",
    "The Elbow Method is the most popular method to determine the optimal number of clusters into which the data may be clustered!\n",
    "For each value, within-cluster sum of squares value is computed and stored in some list.\n",
    "These values are then plotted against the number of clusters used before.\n",
    "The location of bend in the graph indicates the optimal number of clusters."
   ]
  },
  {
   "cell_type": "code",
   "execution_count": 19,
   "id": "e8081fa7",
   "metadata": {},
   "outputs": [],
   "source": [
    "within_cluster_ss = []                        #To calculate within cluster sum of squares and store it in this array\n",
    "c_range = range(1,8)                          #Specifying the range of clusters\n",
    "\n",
    "for k in c_range:                             #Iterating the values of k from 1 to 7\n",
    "    km = KMeans(n_clusters=k)                 #Here we are using k-means clustering algorithm to find k number of \n",
    "    km = km.fit(flower_dataframe)             #centroid(minimum) and then plot set of data around them as nearest \n",
    "    within_cluster_ss.append(km.inertia_)     #as possible using sum of squares method."
   ]
  },
  {
   "cell_type": "code",
   "execution_count": null,
   "id": "b53e4aab",
   "metadata": {},
   "outputs": [],
   "source": [
    "Now we proceed on to plot the graph of within cluster sum of squares versus range of clusters."
   ]
  },
  {
   "cell_type": "code",
   "execution_count": 20,
   "id": "076a2623",
   "metadata": {},
   "outputs": [
    {
     "data": {
      "image/png": "[encoded data removed]",
      "text/plain": [
       "<Figure size 432x288 with 1 Axes>"
      ]
     },
     "metadata": {
      "needs_background": "light"
     },
     "output_type": "display_data"
    }
   ],
   "source": [
    "plt.plot(c_range, within_cluster_ss, color = 'Red')  #Specifying the parameters of the plot\n",
    "plt.title('Elbow Method')                                   #For the title of the plot\n",
    "plt.xlabel('Number of clusters')                            #Specifying the X-axis\n",
    "plt.ylabel('Within-cluster sum of squares')                 #Specifying the Y-axis\n",
    "plt.grid()                                                  #To add grid lines to the plot\n",
    "plt.show()"
   ]
  },
  {
   "cell_type": "code",
   "execution_count": null,
   "id": "ea2cb6f1",
   "metadata": {},
   "outputs": [],
   "source": [
    "We now apply K-Mean Clustering on the data."
   ]
  },
  {
   "cell_type": "code",
   "execution_count": 22,
   "id": "10c5b93d",
   "metadata": {},
   "outputs": [],
   "source": [
    "from sklearn.cluster import KMeans              #Importing KMeans class from cluster module of sklearn library\n",
    "model  = KMeans(n_clusters = 3, init = 'k-means++', max_iter = 500, n_init = 10, random_state = 0) #here Number of clusters to form is 3\n",
    "#max_iter represents the maximum number of iterations for the k-means algorithm, n_init is the no of times the K-Means algorithm\n",
    "#will be run with different centroid seeds\n",
    "pred = model.fit_predict(flower_dataframe)      #To compute the cluster centers and predict cluster index for each sample\n",
    "#fit_predict() is mainly used in unsupervised learning where we don't have labelled inputs.\n"
   ]
  },
  {
   "cell_type": "code",
   "execution_count": null,
   "id": "391852b0",
   "metadata": {},
   "outputs": [],
   "source": [
    "VISUALISATION OF THE CLUSTERS:"
   ]
  },
  {
   "cell_type": "code",
   "execution_count": 28,
   "id": "b28b903d",
   "metadata": {},
   "outputs": [
    {
     "data": {
      "image/png": "[encoded data removed]",
      "text/plain": [
       "<Figure size 432x288 with 1 Axes>"
      ]
     },
     "metadata": {
      "needs_background": "light"
     },
     "output_type": "display_data"
    }
   ],
   "source": [
    "x = flower_dataframe.iloc[:, [0, 1, 2, 3]].values   #iloc() to extract all rows and 1,2,3,4 columns of the data\n",
    "plt.scatter(x[pred == 0, 0], x[pred == 0, 1], s = 25, c = 'Yellow', label = 'Iris-setosa')  #Scatter diagram for Iris-setosa species\n",
    "plt.scatter(x[pred == 1, 0], x[pred == 1, 1], s = 25, c = 'Red', label = 'Iris-versicolor') #Scatter diagram for Iris-versicolor species\n",
    "plt.scatter(x[pred == 2, 0], x[pred == 2, 1], s = 25, c = 'Green', label = 'Iris-virginica')#Scatter diagram for Iris-virginica species\n",
    "\n",
    "#Below we are plotting a scatter diagram for each centroid which represnts the imaginary or real location of center of cluster.\n",
    "plt.scatter(model.cluster_centers_[:, 0], model.cluster_centers_[:, 1], s = 100, c = 'Blue', label = 'Centroids')\n",
    "plt.title('K-Means Cluster')      #To label the title of the graph\n",
    "plt.legend()                      #To label the different elements of the graph\n",
    "plt.show()"
   ]
  },
  {
   "cell_type": "code",
   "execution_count": null,
   "id": "5832620b",
   "metadata": {},
   "outputs": [],
   "source": [
    "Hence with this, we have predicted the optimal number of clusters and represented it visually using K-Mean Clustering Algorithm ."
   ]
  }
 ],
 "metadata": {
  "kernelspec": {
   "display_name": "Python 3 (ipykernel)",
   "language": "python",
   "name": "python3"
  },
  "language_info": {
   "codemirror_mode": {
    "name": "ipython",
    "version": 3
   },
   "file_extension": ".py",
   "mimetype": "text/x-python",
   "name": "python",
   "nbconvert_exporter": "python",
   "pygments_lexer": "ipython3",
   "version": "3.9.7"
  }
 },
 "nbformat": 4,
 "nbformat_minor": 5
}
